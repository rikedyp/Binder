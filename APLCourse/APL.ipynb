{
 "cells": [
  {
   "cell_type": "markdown",
   "metadata": {},
   "source": [
    "# A Programming Language\n",
    "A Programming Language for Mathematics"
   ]
  },
  {
   "cell_type": "markdown",
   "metadata": {},
   "source": [
    "In 1962, Kenneth E. Iverson published the book [\"A Programming Language\"](https://isbnsearch.org/isbn/9780471430148)<sup>1</sup>, detailing a succinct and consistent mathematical language for writing programs."
   ]
  },
  {
   "cell_type": "markdown",
   "metadata": {},
   "source": [
    "### Major distinctions\n",
    "Compared to many other programming languages, the two most noticable differences are the use of symbols `?⍵∊⍴~↑↓⍳○*` and the [array-orientation](Arrays.ipynb) of APL."
   ]
  },
  {
   "cell_type": "markdown",
   "metadata": {},
   "source": [
    "### Types\n",
    "In APL there are numeric data and character data types. "
   ]
  },
  {
   "cell_type": "markdown",
   "metadata": {},
   "source": [
    "### Syntax\n",
    "In traditional mathematics, there is a precedence hierarchy for the [order of operations](https://en.wikipedia.org/wiki/Order_of_operations). This is often taught as the acronym **PEMDAS** in the US, or **BODMAS** or **BIDMAS** in other English speaking countries. In APL, there is no such precedence rule."
   ]
  },
  {
   "cell_type": "markdown",
   "metadata": {},
   "source": [
    "_**Monadic**_ (prefix) functions take the result of the statement to their right as their argument.  \n",
    "_**Dyadic**_ (infix) functions take the arguments to their left and right as their two arguments."
   ]
  },
  {
   "cell_type": "code",
   "execution_count": 2,
   "metadata": {},
   "outputs": [
    {
     "data": {
      "text/html": [
       "<span style=\"white-space:pre; font-family: monospace\">15\n",
       "</span>"
      ]
     },
     "execution_count": 2,
     "metadata": {},
     "output_type": "execute_result"
    },
    {
     "data": {
      "text/html": [
       "<span style=\"white-space:pre; font-family: monospace\">1 1 ¯1 1 0 ¯1\n",
       "</span>"
      ]
     },
     "execution_count": 2,
     "metadata": {},
     "output_type": "execute_result"
    }
   ],
   "source": [
    "⍝ Dyadic × multiplies its arguments\n",
    "3 × 5\n",
    "⍝ Monadic × gives the signum (sign) of its argument\n",
    "× 3 2 ¯8 1 0 ¯1"
   ]
  },
  {
   "cell_type": "markdown",
   "metadata": {},
   "source": [
    "##### Syntax examples:"
   ]
  },
  {
   "cell_type": "code",
   "execution_count": 5,
   "metadata": {},
   "outputs": [
    {
     "data": {
      "text/html": [
       "<span style=\"white-space:pre; font-family: monospace\">4\n",
       "</span>"
      ]
     },
     "execution_count": 5,
     "metadata": {},
     "output_type": "execute_result"
    },
    {
     "data": {
      "text/html": [
       "<span style=\"white-space:pre; font-family: monospace\">4\n",
       "</span>"
      ]
     },
     "execution_count": 5,
     "metadata": {},
     "output_type": "execute_result"
    }
   ],
   "source": [
    "6-3-2-1\n",
    "⍝ Were you expecting 0?\n",
    "⍝ APL functions take the result of statements to their right:\n",
    "6-(3-(2-1))"
   ]
  },
  {
   "cell_type": "markdown",
   "metadata": {},
   "source": [
    "##### Function declaration examples:"
   ]
  },
  {
   "cell_type": "code",
   "execution_count": 15,
   "metadata": {},
   "outputs": [],
   "source": [
    "∇ result ← Monadic right\n",
    "⍝ A monadic (prefix) Tradfn\n",
    "result ← 'function applied to ', right\n",
    "∇"
   ]
  },
  {
   "cell_type": "code",
   "execution_count": 16,
   "metadata": {},
   "outputs": [],
   "source": [
    "∇ result ← left Dyadic right \n",
    "⍝ A dyadic (infix) TradFn\n",
    "result ← left,' and ',right \n",
    "∇"
   ]
  },
  {
   "cell_type": "code",
   "execution_count": 17,
   "metadata": {},
   "outputs": [
    {
     "data": {
      "text/html": [
       "<span style=\"white-space:pre; font-family: monospace\">function applied to argument\n",
       "</span>"
      ]
     },
     "execution_count": 17,
     "metadata": {},
     "output_type": "execute_result"
    },
    {
     "data": {
      "text/html": [
       "<span style=\"white-space:pre; font-family: monospace\">left argument and right argument\n",
       "</span>"
      ]
     },
     "execution_count": 17,
     "metadata": {},
     "output_type": "execute_result"
    }
   ],
   "source": [
    "⍝ Execute previously defined ↑ Tradfns:\n",
    "Monadic 'argument'\n",
    "'left argument' Dyadic 'right argument'"
   ]
  },
  {
   "cell_type": "code",
   "execution_count": 18,
   "metadata": {},
   "outputs": [
    {
     "data": {
      "text/html": [
       "<span style=\"white-space:pre; font-family: monospace\">Right arg: Character Vector\n",
       "</span>"
      ]
     },
     "execution_count": 18,
     "metadata": {},
     "output_type": "execute_result"
    },
    {
     "data": {
      "text/html": [
       "<span style=\"white-space:pre; font-family: monospace\">1 2 3 Num left, Char right char\n",
       "</span>"
      ]
     },
     "execution_count": 18,
     "metadata": {},
     "output_type": "execute_result"
    }
   ],
   "source": [
    "{'Right arg: ',⍵}'Character Vector' ⍝ A monadic (prefix) Dfn\n",
    "1 2 3{⍺,'Num left, Char right ',⍵}'char' ⍝ A dyadic (infix) Dfn"
   ]
  },
  {
   "cell_type": "markdown",
   "metadata": {},
   "source": [
    "Here are some APL equivalents of traditional mathematical notation:  \n",
    "\n",
    "|$Traditional\\ notation$            |`APL`                          |\n",
    "|----------------------------------|-------------------------------|\n",
    "|$ab$                              |`a×b`                          |\n",
    "|$e^x$                             |`*x`                           |\n",
    "|${x}\\over{y}$                     |`x÷y`                          |\n",
    "|$log_b a$                         |`b⍟a`                          |\n",
    "|$\\sqrt[n]a$                       |`a*÷n`                         |\n",
    "|$M1·M2$ for matrices M1 M2        |`M1+.×M2`                      |\n",
    "|$f g x$                           |`f g x`                        |\n",
    "|$tan^2 x$                         |`(3○x)*2`                      |\n",
    "|$\\prod_{i=1}^{6}4i$               |`×/4×⍳6`                        |\n",
    "|$\\sum_{n=1}^{6}4n$                |`+/4×⍳6`                        |  \n",
    "|${-b\\pm\\sqrt{{b^2}-4ac}}\\over{2a}$|`(-b(+,-)0.5*⍨(b*2)-4×a×c)÷2×a`|"
   ]
  },
  {
   "cell_type": "markdown",
   "metadata": {},
   "source": [
    "### References\n",
    "1. Iverson, K. E. (1962, May). A programming language. In Proceedings of the May 1-3, 1962, spring joint computer conference (pp. 345-351). ACM.\n"
   ]
  },
  {
   "cell_type": "code",
   "execution_count": null,
   "metadata": {},
   "outputs": [],
   "source": []
  }
 ],
 "metadata": {
  "kernelspec": {
   "display_name": "Dyalog APL",
   "language": "apl",
   "name": "dyalog-kernel"
  },
  "language_info": {
   "file_extension": ".apl",
   "mimetype": "text/apl",
   "name": "APL"
  }
 },
 "nbformat": 4,
 "nbformat_minor": 2
}
